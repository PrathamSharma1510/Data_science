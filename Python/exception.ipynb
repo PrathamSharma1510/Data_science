{
 "cells": [
  {
   "cell_type": "markdown",
   "metadata": {},
   "source": [
    "Q1) What is an Exception in python? Write the difference between Exceptions and Syntax errors.\n",
    "\n",
    ":- I feel the exception in python is when the program fais or does'nt work at a particular point in a code so, because of that the program should not terminate it should still excute the remaining code. Diffrence between exceptions and Syntax errors is that exception is detected during run time but syntax errors error is not detected during compile time."
   ]
  },
  {
   "cell_type": "markdown",
   "metadata": {},
   "source": [
    "Q2. What happens when an exception is not handled? Explain with an example.\n",
    "\n",
    "\n",
    "when exception is not handled then it leads to error in the program and program is terminated in b/w.\n",
    "\n"
   ]
  },
  {
   "cell_type": "code",
   "execution_count": 4,
   "metadata": {},
   "outputs": [
    {
     "ename": "IndexError",
     "evalue": "list index out of range",
     "output_type": "error",
     "traceback": [
      "\u001b[0;31m---------------------------------------------------------------------------\u001b[0m",
      "\u001b[0;31mIndexError\u001b[0m                                Traceback (most recent call last)",
      "\u001b[0;32m/var/folders/lw/p2v0sfvn59df3jm6s4l8kc6h0000gn/T/ipykernel_17282/1538698701.py\u001b[0m in \u001b[0;36m<module>\u001b[0;34m\u001b[0m\n\u001b[1;32m      1\u001b[0m \u001b[0;31m# example\u001b[0m\u001b[0;34m\u001b[0m\u001b[0;34m\u001b[0m\u001b[0m\n\u001b[1;32m      2\u001b[0m \u001b[0mlist\u001b[0m\u001b[0;34m=\u001b[0m\u001b[0;34m[\u001b[0m\u001b[0;36m1\u001b[0m\u001b[0;34m,\u001b[0m\u001b[0;36m2\u001b[0m\u001b[0;34m,\u001b[0m\u001b[0;36m3\u001b[0m\u001b[0;34m,\u001b[0m\u001b[0;36m4\u001b[0m\u001b[0;34m]\u001b[0m\u001b[0;34m\u001b[0m\u001b[0;34m\u001b[0m\u001b[0m\n\u001b[0;32m----> 3\u001b[0;31m \u001b[0mlist\u001b[0m\u001b[0;34m[\u001b[0m\u001b[0;36m5\u001b[0m\u001b[0;34m]\u001b[0m\u001b[0;34m\u001b[0m\u001b[0;34m\u001b[0m\u001b[0m\n\u001b[0m\u001b[1;32m      4\u001b[0m \u001b[0mprint\u001b[0m\u001b[0;34m(\u001b[0m\u001b[0;34m\"done\"\u001b[0m\u001b[0;34m)\u001b[0m\u001b[0;34m\u001b[0m\u001b[0;34m\u001b[0m\u001b[0m\n",
      "\u001b[0;31mIndexError\u001b[0m: list index out of range"
     ]
    }
   ],
   "source": [
    "# example\n",
    "list=[1,2,3,4]\n",
    "list[5]\n",
    "print(\"done\")"
   ]
  },
  {
   "cell_type": "markdown",
   "metadata": {},
   "source": [
    "Q3. Which Python statements are used to catch and handle exceptions? Explain with an example.\n",
    "\n",
    "\n",
    "try,except,else and finally is used to handel exception handling.\n"
   ]
  },
  {
   "cell_type": "code",
   "execution_count": 6,
   "metadata": {},
   "outputs": [
    {
     "name": "stdout",
     "output_type": "stream",
     "text": [
      "Error list index out of range\n"
     ]
    }
   ],
   "source": [
    "# example\n",
    "try:\n",
    "    list=[1,2,3,4]\n",
    "    list[5]\n",
    "except Exception as e :\n",
    "    print(\"Error\", e)"
   ]
  },
  {
   "cell_type": "markdown",
   "metadata": {},
   "source": [
    "Q4)"
   ]
  },
  {
   "cell_type": "code",
   "execution_count": 11,
   "metadata": {},
   "outputs": [
    {
     "name": "stdout",
     "output_type": "stream",
     "text": [
      "[Errno 2] No such file or directory: 'textfas.txt'\n"
     ]
    }
   ],
   "source": [
    "# try and else\n",
    "# file does not exist so it will go to the except block and when the file exist and try block went \n",
    "# successfully then it will go to the else block\n",
    "try:\n",
    "    with open('textfas.txt','r') as f:\n",
    "        print(f.read())\n",
    "except Exception as e:\n",
    "    print(e)\n",
    "else:   \n",
    "    print(\"successfully\")\n"
   ]
  },
  {
   "cell_type": "code",
   "execution_count": 14,
   "metadata": {},
   "outputs": [
    {
     "name": "stdout",
     "output_type": "stream",
     "text": [
      "hey where are you\n",
      "successfully\n"
     ]
    }
   ],
   "source": [
    "#finally :- this block will exicute no matter what if there is exception or if there is no exception\n",
    "try:\n",
    "    with open('text.txt','r') as f:\n",
    "        print(f.read())\n",
    "except Exception as e:\n",
    "    print(e)\n",
    "finally:   \n",
    "    print(\"successfully\")"
   ]
  },
  {
   "cell_type": "code",
   "execution_count": 19,
   "metadata": {},
   "outputs": [
    {
     "name": "stdout",
     "output_type": "stream",
     "text": [
      "ERROR: Value must be positive\n"
     ]
    }
   ],
   "source": [
    "\n",
    "# The raise statement in Python is used to trigger an exception intentionally.\n",
    "def weight(value):\n",
    "    if value<0:\n",
    "        raise ValueError(\"Value must be positive\")\n",
    "    else:\n",
    "        print(\"Weight is \", value)\n",
    "try:\n",
    "    weight(-10)\n",
    "except Exception as e:\n",
    "    print(\"ERROR:\",e)"
   ]
  },
  {
   "cell_type": "code",
   "execution_count": 21,
   "metadata": {},
   "outputs": [
    {
     "name": "stdout",
     "output_type": "stream",
     "text": [
      "Access Denied: You must be at least 18 years old to enter the club -> Age: 16\n"
     ]
    }
   ],
   "source": [
    "# Q5 :- Custom exceptions in Python are user-defined exception classes that inherit from \n",
    "# Python's built-in Exception class or its subclasses. They are created to represent specific error \n",
    "# conditions that are not adequately covered by Python's standard exceptions. Custom exceptions provide \n",
    "# a clearer and more expressive way to handle errors, improving the readability and maintainability of \n",
    "# the code. They allow for more precise error handling and convey specific issues more accurately to the \n",
    "# user or developer. By defining custom exceptions, programmers can raise and handle errors that are \n",
    "# unique to their application's domain, \n",
    "# facilitating better error reporting and handling strategies.\n",
    "class AgeVerificationError(Exception):\n",
    "\n",
    "    def __init__(self, age, message=\"Age is not valid for this activity\"):\n",
    "        self.age = age\n",
    "        self.message = message\n",
    "        super().__init__(self.message)\n",
    "\n",
    "    def __str__(self):\n",
    "        return f'{self.message} -> Age: {self.age}'\n",
    "\n",
    "def enter_club(age):\n",
    "    if age < 18:\n",
    "        raise AgeVerificationError(age, \"You must be at least 18 years old to enter the club\")\n",
    "    else:\n",
    "        print(\"Welcome to the club!\")\n",
    "\n",
    "# Using the custom exception\n",
    "try:\n",
    "    enter_club(16)\n",
    "except AgeVerificationError as e:\n",
    "    print(f\"Access Denied: {e}\")\n"
   ]
  },
  {
   "cell_type": "code",
   "execution_count": 23,
   "metadata": {},
   "outputs": [
    {
     "name": "stdout",
     "output_type": "stream",
     "text": [
      "Access Denied: You must be at least 18 years old to enter the club -> Age: 16\n"
     ]
    }
   ],
   "source": [
    "# Q6)\n",
    "class AgeVerificationError(Exception):\n",
    "\n",
    "    def __init__(self, age, message=\"Age is not valid for this activity\"):\n",
    "        self.age = age\n",
    "        self.message = message\n",
    "        super().__init__(self.message)\n",
    "\n",
    "    def __str__(self):\n",
    "        return f'{self.message} -> Age: {self.age}'\n",
    "\n",
    "def enter_club(age):\n",
    "    if age < 18:\n",
    "        raise AgeVerificationError(age, \"You must be at least 18 years old to enter the club\")\n",
    "    else:\n",
    "        print(\"Welcome to the club!\")\n",
    "\n",
    "# Using the custom exception\n",
    "try:\n",
    "    enter_club(16)\n",
    "except AgeVerificationError as e:\n",
    "    print(f\"Access Denied: {e}\")\n"
   ]
  },
  {
   "cell_type": "code",
   "execution_count": null,
   "metadata": {},
   "outputs": [],
   "source": []
  }
 ],
 "metadata": {
  "kernelspec": {
   "display_name": "Python 3",
   "language": "python",
   "name": "python3"
  },
  "language_info": {
   "codemirror_mode": {
    "name": "ipython",
    "version": 3
   },
   "file_extension": ".py",
   "mimetype": "text/x-python",
   "name": "python",
   "nbconvert_exporter": "python",
   "pygments_lexer": "ipython3",
   "version": "3.9.12"
  }
 },
 "nbformat": 4,
 "nbformat_minor": 2
}

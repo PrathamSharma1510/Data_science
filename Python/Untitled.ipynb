{
 "cells": [
  {
   "cell_type": "code",
   "execution_count": 6,
   "id": "33f9b427",
   "metadata": {},
   "outputs": [],
   "source": [
    "with open ('text.txt','w') as f:\n",
    "    f.write(\"hey where are you\")\n",
    "\n",
    "\n",
    "    "
   ]
  },
  {
   "cell_type": "code",
   "execution_count": 8,
   "metadata": {},
   "outputs": [
    {
     "name": "stdout",
     "output_type": "stream",
     "text": [
      "Threading Example:\n",
      "Number 0\n",
      "Letter A\n",
      "Number 1\n",
      "Letter B\n",
      "Number 2\n",
      "Number 3\n",
      "Letter C\n",
      "Number 4\n",
      "Letter D\n",
      "Letter E\n"
     ]
    }
   ],
   "source": [
    "import threading\n",
    "import time\n",
    "\n",
    "def print_numbers():\n",
    "    for i in range(5):\n",
    "        time.sleep(1)  # Simulating a task that takes time\n",
    "        print(f\"Number {i}\")\n",
    "\n",
    "def print_letters():\n",
    "    for letter in ['A', 'B', 'C', 'D', 'E']:\n",
    "        time.sleep(1.5)\n",
    "        print(f\"Letter {letter}\")\n",
    "\n",
    "print(\"Threading Example:\")\n",
    "\n",
    "# Creating threads\n",
    "thread1 = threading.Thread(target=print_numbers)\n",
    "thread2 = threading.Thread(target=print_letters)\n",
    "\n",
    "# Starting threads\n",
    "thread1.start()\n",
    "thread2.start()\n",
    "\n",
    "# Waiting for both threads to complete\n",
    "thread1.join()\n",
    "thread2.join()\n"
   ]
  },
  {
   "cell_type": "code",
   "execution_count": 9,
   "metadata": {},
   "outputs": [
    {
     "name": "stdout",
     "output_type": "stream",
     "text": [
      "Running as a standalone script\n",
      "Function from example.py\n"
     ]
    }
   ],
   "source": [
    "def function():\n",
    "    print(\"Function from example.py\")\n",
    "\n",
    "if __name__ == \"__main__\":\n",
    "    print(\"Running as a standalone script\")\n",
    "    function()"
   ]
  },
  {
   "cell_type": "code",
   "execution_count": null,
   "metadata": {},
   "outputs": [],
   "source": []
  },
  {
   "cell_type": "markdown",
   "metadata": {},
   "source": [
    "def function():\n",
    "    print(\"Function from example.py\")\n",
    "\n",
    "if __name__ == \"__main__\":\n",
    "    print(\"Running as a standalone script\")\n",
    "    function()\n"
   ]
  }
 ],
 "metadata": {
  "kernelspec": {
   "display_name": "Python 3 (ipykernel)",
   "language": "python",
   "name": "python3"
  },
  "language_info": {
   "codemirror_mode": {
    "name": "ipython",
    "version": 3
   },
   "file_extension": ".py",
   "mimetype": "text/x-python",
   "name": "python",
   "nbconvert_exporter": "python",
   "pygments_lexer": "ipython3",
   "version": "3.9.12"
  }
 },
 "nbformat": 4,
 "nbformat_minor": 5
}

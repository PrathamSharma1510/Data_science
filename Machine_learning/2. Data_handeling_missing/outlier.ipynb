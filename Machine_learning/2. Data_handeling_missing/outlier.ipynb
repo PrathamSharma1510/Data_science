{
 "cells": [
  {
   "cell_type": "code",
   "execution_count": 5,
   "metadata": {},
   "outputs": [],
   "source": [
    "import numpy as np\n",
    "import seaborn as sns"
   ]
  },
  {
   "cell_type": "code",
   "execution_count": null,
   "metadata": {},
   "outputs": [],
   "source": []
  },
  {
   "cell_type": "code",
   "execution_count": 12,
   "metadata": {},
   "outputs": [
    {
     "name": "stdout",
     "output_type": "stream",
     "text": [
      "-120.0 32.0 55.0 88.5 1200.0\n"
     ]
    }
   ],
   "source": [
    "num=[-120,-100,-1,10,20,40,45,30,32,56,75,89,54,32,89,90,87,67,54,45,98,99,67,74,1000,1200]\n",
    "minimum,Q1,median,Q3,maximum=np.quantile(num,[0,0.25,0.50,0.75,1.0])\n",
    "print(minimum,Q1,median,Q3,maximum)"
   ]
  },
  {
   "cell_type": "code",
   "execution_count": 14,
   "metadata": {},
   "outputs": [
    {
     "data": {
      "text/plain": [
       "56.5"
      ]
     },
     "execution_count": 14,
     "metadata": {},
     "output_type": "execute_result"
    }
   ],
   "source": [
    "IQR=Q3-Q1\n",
    "IQR\n"
   ]
  },
  {
   "cell_type": "code",
   "execution_count": 16,
   "metadata": {},
   "outputs": [
    {
     "name": "stdout",
     "output_type": "stream",
     "text": [
      "173.25 -52.75\n"
     ]
    }
   ],
   "source": [
    "upper_bound=Q3+1.5*(IQR)\n",
    "lower_bound=Q1-1.5*(IQR)\n",
    "print(upper_bound,lower_bound)\n"
   ]
  },
  {
   "cell_type": "code",
   "execution_count": 23,
   "metadata": {},
   "outputs": [
    {
     "name": "stdout",
     "output_type": "stream",
     "text": [
      "Out of bounds  -120\n",
      "Out of bounds  -100\n",
      "Out of bounds  1000\n",
      "Out of bounds  1200\n"
     ]
    }
   ],
   "source": [
    "for i in num:\n",
    "    if i<lower_bound or i>upper_bound:\n",
    "        print(\"Out of bounds \",i)\n",
    "    "
   ]
  },
  {
   "cell_type": "code",
   "execution_count": null,
   "metadata": {},
   "outputs": [],
   "source": []
  }
 ],
 "metadata": {
  "kernelspec": {
   "display_name": "Python 3",
   "language": "python",
   "name": "python3"
  },
  "language_info": {
   "codemirror_mode": {
    "name": "ipython",
    "version": 3
   },
   "file_extension": ".py",
   "mimetype": "text/x-python",
   "name": "python",
   "nbconvert_exporter": "python",
   "pygments_lexer": "ipython3",
   "version": "3.9.12"
  }
 },
 "nbformat": 4,
 "nbformat_minor": 2
}

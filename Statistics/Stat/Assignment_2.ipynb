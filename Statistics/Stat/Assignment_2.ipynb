{
 "cells": [
  {
   "cell_type": "markdown",
   "metadata": {},
   "source": [
    "1. Mean, mode and median."
   ]
  },
  {
   "cell_type": "markdown",
   "metadata": {},
   "source": [
    "2. The mean, median, and mode are all measures of central tendency, which help in identifying the center or typical value in a dataset. \n",
    "Mean: Provides a mathematical center and is influenced by all values in the dataset.\n",
    "Median: Offers a midpoint that divides the dataset in half, less influenced by extreme values.\n",
    "Mode: Indicates the most common value, useful in understanding the frequency of occurrence."
   ]
  },
  {
   "cell_type": "code",
   "execution_count": 6,
   "metadata": {},
   "outputs": [
    {
     "name": "stdout",
     "output_type": "stream",
     "text": [
      "177.01875 177.0 ModeResult(mode=177.0, count=3)\n"
     ]
    }
   ],
   "source": [
    "# 3 \n",
    "import numpy as np\n",
    "from scipy import stats as st\n",
    "data=[178,177,176,177,178.2,178,175,179,180,175,178.9,176.2,177,172.5,178,176.5]\n",
    "mean=np.mean(data)\n",
    "median=np.median(data)\n",
    "mode=st.mode(data)\n",
    "print(mean,median,mode)\n"
   ]
  },
  {
   "cell_type": "code",
   "execution_count": 7,
   "metadata": {},
   "outputs": [
    {
     "data": {
      "text/plain": [
       "1.7885814036548633"
      ]
     },
     "execution_count": 7,
     "metadata": {},
     "output_type": "execute_result"
    }
   ],
   "source": [
    "# 4\n",
    "st=np.std(data)\n",
    "st"
   ]
  },
  {
   "cell_type": "markdown",
   "metadata": {},
   "source": [
    "5. Measures of dispersion like range, variance, and standard deviation are used to describe how spread out or scattered the values in a dataset are. They give insights into the variability or consistency within the data.\n",
    "\n",
    "Range: Simplest measure, showing the extent of variability in a single value.\n",
    "Variance: Gives a comprehensive picture of spread by considering the distance of each value from the mean.\n",
    "Standard Deviation: Most practical, providing an average spread around the mean, easier to interpret because it's in the same units as the data."
   ]
  },
  {
   "cell_type": "markdown",
   "metadata": {},
   "source": [
    "6.A Venn diagram is a visual representation using overlapping circles to show the relationships and commonalities between different sets or groups."
   ]
  },
  {
   "cell_type": "markdown",
   "metadata": {},
   "source": [
    "7. A = (2,3,4,5,6,7) & B = (0,2,6,8,10).\n",
    "a) (2,6)\n",
    "b) (0,2,3,4,5,6,7,8,10)"
   ]
  },
  {
   "cell_type": "markdown",
   "metadata": {},
   "source": [
    "8. Skewness in data refers to the measure of asymmetry or deviation from the symmetry of a dataset's distribution. If the distribution has a longer tail on one side of the central peak than the other, it is skewed. Right (positive) skewness means the tail is longer on the right side, and left (negative) skewness means the tail is longer on the left side. Skewness affects the mean and median's position relative to the mode."
   ]
  },
  {
   "cell_type": "markdown",
   "metadata": {},
   "source": [
    "9. If the data is right skewed then the median will be at the left hand side of the mean so, mean>=median."
   ]
  },
  {
   "cell_type": "markdown",
   "metadata": {},
   "source": [
    "10. Standardization: Covariance is not standardized; its value depends on the units of the variables. Correlation is standardized and always between -1 and 1.\n",
    "Interpretation: Correlation is easier to interpret for the strength of a relationship, while covariance mainly shows the direction.\n",
    "Usage in Statistical Analysis:\n",
    "Covariance: Used to determine the direction of a relationship.\n",
    "Correlation: More commonly used to both determine the direction and gauge the strength of a linear relationship between variables.\n"
   ]
  },
  {
   "cell_type": "markdown",
   "metadata": {},
   "source": [
    "11. sample mean= 1/n ∑1->n Xi\n",
    "\n",
    " [25, 30, 35, 40, 20]\n",
    " Add up all the ages: 25+30+35+40+20=150.\n",
    "n=5\n",
    "150/5=30\n",
    "\n"
   ]
  },
  {
   "cell_type": "markdown",
   "metadata": {},
   "source": [
    "12. Mean=Median=Mode"
   ]
  },
  {
   "cell_type": "markdown",
   "metadata": {},
   "source": [
    "13. Standardization: Correlation is standardized, allowing for easy comparison across different datasets; covariance is not standardized and is influenced by the scale of the variables.\n",
    "Interpretation: Correlation values are directly interpretable in terms of strength and direction, while covariance only indicates the direction and relative magnitude but not the strength."
   ]
  },
  {
   "cell_type": "markdown",
   "metadata": {},
   "source": [
    "14.  mean is drastically effected with outliers, median is slightly effected and mode is not affected.\n",
    "[20, 22, 23, 24, 25, 100] \n",
    "Without Outlier (20, 22, 23, 24, 25):\n",
    "Mean: 22.8, Median: 23, Mode: N/A (no repeated values), Range: 5 (25 - 20).\n",
    "\n",
    "With Outlier (20, 22, 23, 24, 25, 100):\n",
    "Mean: 35.67 (significantly increased by the outlier), Median: 23.5 (slightly affected), Mode: N/A, Range: 80 (100 - 20) (dramatically increased).\n"
   ]
  },
  {
   "cell_type": "markdown",
   "metadata": {},
   "source": []
  }
 ],
 "metadata": {
  "kernelspec": {
   "display_name": "Python 3",
   "language": "python",
   "name": "python3"
  },
  "language_info": {
   "codemirror_mode": {
    "name": "ipython",
    "version": 3
   },
   "file_extension": ".py",
   "mimetype": "text/x-python",
   "name": "python",
   "nbconvert_exporter": "python",
   "pygments_lexer": "ipython3",
   "version": "3.9.12"
  }
 },
 "nbformat": 4,
 "nbformat_minor": 2
}

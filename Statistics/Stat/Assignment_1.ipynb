{
 "cells": [
  {
   "cell_type": "markdown",
   "metadata": {},
   "source": [
    "Q1:- Statistics is the science of collecting, organising and analysing data."
   ]
  },
  {
   "cell_type": "markdown",
   "metadata": {},
   "source": [
    "Q2 :- Type of statistics are :-\n",
    "1. Descriptive statistics :-\n",
    "Descriptive statistics is used to organize and summarize data.\n",
    "2. Inferential statistics :-\n",
    "inferential statistics is used to form conclusion using data collected.\n"
   ]
  },
  {
   "cell_type": "markdown",
   "metadata": {},
   "source": [
    "Q3:- Type of the data are :-\n",
    "1. Quantitative data:-\n",
    "a. Interval data\n",
    "b. Ratio \n",
    "2. Qualitative data:-\n",
    "a. Nominal data\n",
    "b. Ordinal data\n",
    "\n",
    "Qualitative Data (Categorical): Describes qualities (Nominal: no order, Ordinal: ordered).\n",
    "Quantitative Data (Numerical): Describes quantities (Interval: no true zero, Ratio: true zero, allowing for ratios).\n"
   ]
  },
  {
   "cell_type": "markdown",
   "metadata": {},
   "source": [
    "Q4:- (i) Qualitative data : Ordinary data\n",
    "(ii) Qualitative data : Nominal data\n",
    "(iii) Quantitative data :Ratio data\n",
    "(iv) Quantitative data :Ratio data"
   ]
  },
  {
   "cell_type": "markdown",
   "metadata": {},
   "source": [
    "Q5:- The concept of levels of measurement in statistics refers to the different ways that variables can be quantified or categorized. There are four main levels of measurement:\n",
    "\n",
    "Nominal: For categorizing without any order. (e.g., Types of fruits).\n",
    "\n",
    "Ordinal: For ordered categories, but without consistent intervals. (e.g., Satisfaction ratings).\n",
    "\n",
    "Interval: Numeric data with equal intervals but no true zero point. (e.g., Temperature in Celsius).\n",
    "\n",
    "Ratio: Numeric data like interval but with a true zero, allowing for ratios. (e.g., Height in centimeters).\n"
   ]
  },
  {
   "cell_type": "markdown",
   "metadata": {},
   "source": [
    "Q6:- \n",
    "Understanding the level of measurement is important when analyzing data because it dictates the appropriate statistical methods to use and ensures accurate interpretation of results. Different levels of measurement allow for different types of analysis:\n",
    "\n",
    "Nominal and Ordinal Data: Appropriate for frequency counts, mode, and non-parametric tests. You cannot meaningfully calculate means or standard deviations.\n",
    "\n",
    "Interval and Ratio Data: Suitable for a wider range of statistical analyses, including means, standard deviations, correlations, and more.\n",
    "\n",
    "Example:\n",
    "Suppose you're analyzing survey data:\n",
    "\n",
    "Nominal Data (Gender): You can count how many respondents are male or female but cannot calculate an average gender.\n",
    "Ordinal Data (Satisfaction Level): You can rank satisfaction from low to high, but you can't say how much more satisfied one level is compared to another.\n",
    "Ratio Data (Age): You can calculate the average age, find the age range, or compare ratios (e.g., one person is twice as old as another)."
   ]
  },
  {
   "cell_type": "markdown",
   "metadata": {},
   "source": [
    "Q7:- \n",
    "Nominal data categorizes without any inherent order (e.g., colors, brands), while ordinal data categorizes with a specific order but without consistent differences between the categories (e.g., rankings, satisfaction levels)."
   ]
  },
  {
   "cell_type": "markdown",
   "metadata": {},
   "source": [
    "Q8) Box-plot"
   ]
  },
  {
   "cell_type": "markdown",
   "metadata": {},
   "source": [
    "Q9) Descriptive Statistics:\n",
    "Purpose: Summarize and describe the main features of a dataset.\n",
    "Example: Calculating the mean, median, or mode of exam scores in a class. It's used to give a quick overview of the class performance.\n",
    "Inferential Statistics:\n",
    "Purpose: Make predictions or inferences about a larger population based on a sample.\n",
    "Example: Using a sample of voters to predict the outcome of an election. It's used to draw conclusions about the broader population based on the sample data.\n",
    "Key Difference:\n",
    "Descriptive statistics describe the data you have, while inferential statistics use that data to make predictions or inferences about a larger group."
   ]
  },
  {
   "cell_type": "markdown",
   "metadata": {},
   "source": [
    "Q10) Common Measures of Central Tendency:\n",
    "Mean: The average value of a dataset.\n",
    "\n",
    "Use: Represents the typical value by summing up all the data points and dividing by the number of points. Sensitive to outliers.\n",
    "Median: The middle value in a dataset when ordered.\n",
    "\n",
    "Use: Represents the central value, dividing the dataset in half. Less affected by outliers compared to the mean.\n",
    "Mode: The most frequently occurring value in a dataset.\n",
    "\n",
    "Use: Highlights the most common value. Useful in datasets with repeated values.\n",
    "Common Measures of Variability:\n",
    "Standard Deviation: Measures the amount of variation or dispersion in a dataset.\n",
    "\n",
    "Use: Indicates how spread out the data points are from the mean. A larger standard deviation means more spread.\n",
    "Variance: The square of the standard deviation.\n",
    "\n",
    "Use: Provides a measure of how each data point differs from the mean. Useful in statistical models.\n",
    "Range: The difference between the highest and lowest values.\n",
    "\n",
    "Use: Gives a quick sense of the spread of the data. Sensitive to outliers."
   ]
  }
 ],
 "metadata": {
  "language_info": {
   "name": "python"
  }
 },
 "nbformat": 4,
 "nbformat_minor": 2
}

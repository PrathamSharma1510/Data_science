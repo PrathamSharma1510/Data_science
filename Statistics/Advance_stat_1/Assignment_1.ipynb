{
 "cells": [
  {
   "cell_type": "markdown",
   "metadata": {},
   "source": [
    "Q1:- A Probability Density Function (PDF) is a function that describes the likelihood of a continuous random variable to take on a given value. The PDF maps each point in the variable's range to the probability density at that point. For a continuous random variable, the probability of taking on any single, exact value is zero; instead, the PDF shows the density of probabilities over an interval. The area under the PDF curve within an interval represents the probability that the variable falls within that interval."
   ]
  },
  {
   "cell_type": "markdown",
   "metadata": {},
   "source": [
    "Q2:- For Discrete Random Variables:\n",
    "Binomial Distribution: For binary outcomes (success/failure) repeated multiple times, like flipping a coin.\n",
    "\n",
    "Poisson Distribution: For counting the number of times an event occurs in a fixed interval, like the number of cars passing a point.\n",
    "\n",
    "Geometric Distribution: For counting the number of trials until the first success, like the number of coin flips until the first head appears.\n",
    "\n",
    "Hypergeometric Distribution: Similar to the binomial distribution but without replacement, like drawing cards from a deck without putting them back.\n",
    "\n",
    "Negative Binomial Distribution: For counting the number of trials until a specified number of successes occur.\n",
    "\n",
    "-- For Continuous Random Variables:\n",
    "Normal (Gaussian) Distribution: For data that clusters around a mean, like heights or test scores.\n",
    "\n",
    "Uniform Distribution: Where all intervals of the same length have equal probability, like a random number between 0 and 1.\n",
    "\n",
    "Exponential Distribution: For the time between events in a Poisson process, like the time until the next earthquake.\n",
    "\n",
    "Beta Distribution: For variables that take values between 0 and 1, like probabilities.\n",
    "\n",
    "Gamma Distribution: A generalization of the exponential distribution for modeling the time until 'k' events occur.\n",
    "\n",
    "Log-Normal Distribution: For variables whose logarithm is normally distributed, often used in financial modeling."
   ]
  },
  {
   "cell_type": "code",
   "execution_count": 3,
   "metadata": {},
   "outputs": [
    {
     "name": "stdout",
     "output_type": "stream",
     "text": [
      "Defaulting to user installation because normal site-packages is not writeable\n",
      "Collecting scipy\n",
      "  Downloading scipy-1.11.4-cp39-cp39-macosx_10_9_x86_64.whl.metadata (60 kB)\n",
      "\u001b[2K     \u001b[90m━━━━━━━━━━━━━━━━━━━━━━━━━━━━━━━━━━━━━━━━\u001b[0m \u001b[32m60.4/60.4 kB\u001b[0m \u001b[31m3.3 MB/s\u001b[0m eta \u001b[36m0:00:00\u001b[0m\n",
      "\u001b[?25hRequirement already satisfied: numpy<1.28.0,>=1.21.6 in /Users/prathamsharma/Library/Python/3.9/lib/python/site-packages (from scipy) (1.26.2)\n",
      "Downloading scipy-1.11.4-cp39-cp39-macosx_10_9_x86_64.whl (37.3 MB)\n",
      "\u001b[2K   \u001b[90m━━━━━━━━━━━━━━━━━━━━━━━━━━━━━━━━━━━━━━━━\u001b[0m \u001b[32m37.3/37.3 MB\u001b[0m \u001b[31m1.0 MB/s\u001b[0m eta \u001b[36m0:00:00\u001b[0m00:01\u001b[0m00:01\u001b[0m\n",
      "\u001b[?25hInstalling collected packages: scipy\n",
      "Successfully installed scipy-1.11.4\n"
     ]
    }
   ],
   "source": [
    "!pip install scipy"
   ]
  },
  {
   "cell_type": "code",
   "execution_count": 1,
   "metadata": {},
   "outputs": [
    {
     "data": {
      "text/plain": [
       "0.3989422804014327"
      ]
     },
     "execution_count": 1,
     "metadata": {},
     "output_type": "execute_result"
    }
   ],
   "source": [
    "import numpy as np\n",
    "from scipy.stats import norm\n",
    "\n",
    "def calculate_pdf_normal_distribution(mean, std_dev, value):\n",
    "    pdf_value = norm.pdf(value, mean, std_dev)\n",
    "    return pdf_value\n",
    "\n",
    "mean = 0       \n",
    "std_dev = 1    \n",
    "value = 0   \n",
    "\n",
    "\n",
    "pdf_at_value = calculate_pdf_normal_distribution(mean, std_dev, value)\n",
    "pdf_at_value\n"
   ]
  },
  {
   "cell_type": "markdown",
   "metadata": {},
   "source": [
    "Q4 The Binomial distribution is like a way of predicting the outcome of flipping a coin several times, but instead of a coin, it can be any event with two possible outcomes (like yes/no, pass/fail).\n",
    "\n",
    "Key Points:\n",
    "Two Outcomes: Think of it as a \"yes or no\" question. For example, if you're flipping a coin, the two outcomes are heads or tails.\n",
    "\n",
    "Same Chance Every Time: Each time you do the event (like flipping the coin), the chance of getting \"yes\" (like heads) stays the same.\n",
    "\n",
    "Counting Yeses: It's about counting how many times you get \"yes\" (like how many heads) in a certain number of tries (like 10 coin flips).\n",
    "\n",
    "Examples:\n",
    "Flipping a Coin: Say you flip a coin 5 times. The Binomial distribution can tell you how likely it is to get heads 3 times.\n",
    "\n",
    "Taking a Test: Imagine you guess on 4 true/false questions. The Binomial distribution can tell you the chances of getting exactly 2 right by guessing.\n",
    "\n",
    "In both examples, you have a simple event (flipping a coin, answering a true/false question) repeated a few times, and you want to know how likely it is to get a certain number of \"yes\" answers (heads or correct guesses). That's what the Binomial distribution helps you figure out."
   ]
  },
  {
   "cell_type": "code",
   "execution_count": 11,
   "metadata": {},
   "outputs": [
    {
     "data": {
      "text/plain": [
       "(array([618.,   0.,   0.,   0.,   0.,   0.,   0.,   0.,   0., 382.]),\n",
       " array([0. , 0.1, 0.2, 0.3, 0.4, 0.5, 0.6, 0.7, 0.8, 0.9, 1. ]),\n",
       " <BarContainer object of 10 artists>)"
      ]
     },
     "execution_count": 11,
     "metadata": {},
     "output_type": "execute_result"
    },
    {
     "data": {
      "image/png": "[encoded data removed]",
      "text/plain": [
       "<Figure size 432x288 with 1 Axes>"
      ]
     },
     "metadata": {
      "needs_background": "light"
     },
     "output_type": "display_data"
    }
   ],
   "source": [
    "# 5\n",
    "from scipy.stats import norm\n",
    "import numpy as np\n",
    "import matplotlib.pyplot as pl\n",
    "s=np.random.binomial(1,0.4,1000)\n",
    "pl.hist(s)"
   ]
  },
  {
   "cell_type": "code",
   "execution_count": 14,
   "metadata": {},
   "outputs": [
    {
     "data": {
      "text/plain": [
       "0.9160820579686966"
      ]
     },
     "execution_count": 14,
     "metadata": {},
     "output_type": "execute_result"
    }
   ],
   "source": [
    "# 6\n",
    "from scipy.stats import poisson\n",
    "cdf=poisson.cdf(5,3)\n",
    "cdf\n"
   ]
  },
  {
   "cell_type": "markdown",
   "metadata": {},
   "source": [
    "7. Fixed vs. Unlimited Trials: Binomial has a fixed number of trials; Poisson does not have a fixed number of trials or intervals.\n",
    "Probability vs. Rate: Binomial uses a probability of success; Poisson uses a rate of occurrence.\n",
    "Applications: Binomial is for binary outcomes repeated multiple times; Poisson is for counting events over time or space.\n",
    "In summary, while both describe the probability of certain numbers of events, they apply to different types of scenarios and are characterized by different sets of parameters.\n",
    "\n",
    "\n",
    "\n",
    "\n",
    "\n",
    "\n"
   ]
  },
  {
   "cell_type": "code",
   "execution_count": 19,
   "metadata": {},
   "outputs": [
    {
     "name": "stdout",
     "output_type": "stream",
     "text": [
      "4.976 5.191423999999999\n"
     ]
    }
   ],
   "source": [
    "# 8\n",
    "from scipy.stats import poisson\n",
    "import numpy as np\n",
    "s=np.random.poisson(5,1000)\n",
    "mean=np.mean(s)\n",
    "variance=np.var(s)\n",
    "print(mean,variance)\n"
   ]
  },
  {
   "cell_type": "markdown",
   "metadata": {},
   "source": [
    "9. Binomial Distribution:\n",
    "Mean: The mean of a Binomial distribution is given by μ=n×p, where \n",
    "n is the number of trials, and \n",
    "p is the probability of success in each trial.\n",
    "Variance: The variance of a Binomial distribution is \n",
    " =n×p×(1−p).\n",
    "\n",
    "In a Binomial distribution, the variance depends on the number of trials, the probability of success, and the probability of failure (1 - p).\n",
    "\n",
    "\n",
    "\n",
    "Poisson Distribution:\n",
    "Mean: The mean of a Poisson distribution is \n",
    "λ, which is the average rate at which events occur in a fixed interval.\n",
    "\n",
    "Variance: The variance of a Poisson distribution is also λ.\n",
    "\n",
    "In a Poisson distribution, the mean and variance are equal, reflecting the nature of events occurring independently at a constant average rate."
   ]
  },
  {
   "cell_type": "markdown",
   "metadata": {},
   "source": [
    "10. In a normal distribution, the least frequent data appears at the extreme ends, or tails, of the distribution, far from the mean. The normal distribution is symmetric around the mean, and as you move away from the mean in either direction, the frequency of data points decreases. This results in the highest frequency of data points being around the mean, and the lowest frequency at the extremes of the distribution."
   ]
  },
  {
   "cell_type": "markdown",
   "metadata": {},
   "source": []
  }
 ],
 "metadata": {
  "kernelspec": {
   "display_name": "Python 3",
   "language": "python",
   "name": "python3"
  },
  "language_info": {
   "codemirror_mode": {
    "name": "ipython",
    "version": 3
   },
   "file_extension": ".py",
   "mimetype": "text/x-python",
   "name": "python",
   "nbconvert_exporter": "python",
   "pygments_lexer": "ipython3",
   "version": "3.9.12"
  }
 },
 "nbformat": 4,
 "nbformat_minor": 2
}

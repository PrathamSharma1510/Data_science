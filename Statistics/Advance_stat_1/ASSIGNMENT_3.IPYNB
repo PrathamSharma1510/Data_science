{
 "cells": [
  {
   "cell_type": "markdown",
   "metadata": {},
   "source": [
    "1.  Estimation Statistics\n",
    "Estimation statistics refers to a branch of statistics that deals with estimating the parameters of a population from a sample of data. It's primarily concerned with making inferences about population parameters based on sample statistics. There are two main types of estimates:\n",
    "\n",
    "Point Estimate:\n",
    "A point estimate is a single value estimate of a population parameter. It provides the best guess or single best estimate of the parameter based on the sample data.\n",
    "Example: Using the sample mean to estimate the population mean.\n",
    "\n",
    "Interval Estimate:\n",
    "An interval estimate provides a range of values within which the parameter is expected to fall. This range, known as a confidence interval, is constructed to contain the parameter with a certain level of confidence (like 95%).\n",
    "Example: Estimating that the population mean lies between two bounds, say 45 to 55, with a 95% confidence level."
   ]
  },
  {
   "cell_type": "code",
   "execution_count": 5,
   "metadata": {},
   "outputs": [
    {
     "name": "stdout",
     "output_type": "stream",
     "text": [
      "50.619806421393 49.380193578607\n"
     ]
    }
   ],
   "source": [
    "# 2\n",
    "import math\n",
    "\n",
    "sam_mean=50\n",
    "sam_std=10\n",
    "n=1000\n",
    "\n",
    "upper_bound=sam_mean+1.96*(sam_std/math.sqrt(n))\n",
    "lower_bound=sam_mean-1.96*(sam_std/math.sqrt(n))\n",
    "\n",
    "print(upper_bound,lower_bound)\n"
   ]
  },
  {
   "cell_type": "markdown",
   "metadata": {},
   "source": [
    "3. Hypothesis testing is a statistical method used to make inferences or decisions about a population based on sample data. It involves testing an assumption (hypothesis) regarding a population parameter.\n",
    "\n",
    "Why It’s Used:\n",
    "\n",
    "1.\tDecision Making: It helps in making decisions based on data analysis, determining whether there is enough evidence to reject a null hypothesis in favor of an alternative hypothesis.\n",
    "2.\tEvaluating Claims: Used to assess the validity of claims or effects observed in data, such as in scientific research, product testing, and policy making.\n",
    "\n",
    "Importance:\n",
    "\n",
    "1.\tScientific Inquiry: It’s a cornerstone of the scientific method, allowing researchers to validate findings and theories.\n",
    "2.\tData-Driven Decisions: In business and policy, it provides a basis for making informed decisions using data rather than assumptions.\n",
    "3.\tRisk Management: Helps in quantifying and managing risk, particularly in fields like finance and quality control.\n",
    "\n",
    "Hypothesis testing is crucial for objectively evaluating evidence in data, providing a structured framework to quantify the reliability of conclusions drawn from data analysis."
   ]
  },
  {
   "cell_type": "markdown",
   "metadata": {},
   "source": [
    "4. H0 (Null Hypothesis):- average weight of male college students is less than equal than the average weight of female college students.\n",
    "(Alternative Hypothesis) H1 :- average weight of male college students is greater than the average weight of female college students."
   ]
  },
  {
   "cell_type": "code",
   "execution_count": 9,
   "metadata": {},
   "outputs": [
    {
     "name": "stdout",
     "output_type": "stream",
     "text": [
      "Reject the Null hypothesis\n",
      "14.043180186933121 1.5399977600230726e-31\n"
     ]
    }
   ],
   "source": [
    "# 5\n",
    "import scipy.stats as stats \n",
    "import numpy as np\n",
    "\n",
    "sample1=np.random.normal(70,10,100)\n",
    "sample2=np.random.normal(50,10,100)\n",
    "t_statistic, p_value = stats.ttest_ind(sample1, sample2, equal_var=False)\n",
    "if p_value<0.05:\n",
    "    print('Reject the Null hypothesis')\n",
    "else:\n",
    "    print('Fail to reject the Null hypothesis')\n",
    "print(t_statistic, p_value)\n"
   ]
  },
  {
   "cell_type": "markdown",
   "metadata": {},
   "source": [
    "6.A null hypothesis (H0) and an alternative hypothesis (H1) are fundamental concepts in hypothesis testing, a method used to determine if there is enough statistical evidence in a sample of data to infer that a certain condition is true for the entire population.\n",
    "\n",
    "\t1.\tNull Hypothesis (H0): This is the default assumption that there is no difference or effect. It’s a statement of no change, no effect, or no difference. It’s what you seek to test against.\n",
    "\t•\tExample: H0: “The mean weight of adult males is 70 kg.”\n",
    "\t2.\tAlternative Hypothesis (H1): This is what you want to prove. It’s a statement that indicates the presence of an effect, change, or difference.\n",
    "\t•\tExample: H1: “The mean weight of adult males is not 70 kg.”\n",
    "\n",
    "Examples:\n",
    "\n",
    "\t•\tTesting a drug’s effectiveness: H0: “The drug has no effect on the disease.” H1: “The drug has an effect on the disease.”\n",
    "\t•\tComparing means: H0: “There is no difference in average test scores between groups.” H1: “There is a difference in average test scores between groups.”\n",
    "\n",
    "In hypothesis testing, you use sample data to decide whether to reject H0 in favor of H1\n"
   ]
  },
  {
   "cell_type": "code",
   "execution_count": null,
   "metadata": {},
   "outputs": [],
   "source": []
  },
  {
   "cell_type": "markdown",
   "metadata": {},
   "source": [
    "7. \n",
    "1) Define NULL hypothesis (H0)\n",
    "2) Define ALternative hypothesis\n",
    "3) Statistical analysis-> (z test, T test and etc)\n",
    "4) We have to accept and reject the Null hypothesis "
   ]
  },
  {
   "cell_type": "markdown",
   "metadata": {},
   "source": [
    "8. \tThe p-value represents the probability of obtaining test results at least as extreme as the ones observed during the test, assuming that the null hypothesis is true.\n",
    "\n",
    "\n",
    "    •The p-value is a key metric in hypothesis testing, helping researchers to make decisions about their hypotheses.\n",
    "\n",
    "\t•\tIt’s important to interpret p-values correctly, understanding their limitations and the context of the specific hypothesis test.\n",
    "\t\n",
    "\t•\tThe p-value provides a measure of the evidence against the null hypothesis, but it should be considered alongside other factors like the effect size and the study’s design and assumptions."
   ]
  },
  {
   "cell_type": "code",
   "execution_count": 45,
   "metadata": {},
   "outputs": [
    {
     "data": {
      "text/plain": [
       "Text(0.5, 1.0, \"Student's t-Distribution\")"
      ]
     },
     "execution_count": 45,
     "metadata": {},
     "output_type": "execute_result"
    },
    {
     "data": {
      "image/png": "[encoded data removed]",
      "text/plain": [
       "<Figure size 432x288 with 1 Axes>"
      ]
     },
     "metadata": {
      "needs_background": "light"
     },
     "output_type": "display_data"
    }
   ],
   "source": [
    "# 9\n",
    "import matplotlib.pyplot as plt\n",
    "import numpy as np\n",
    "from scipy.stats import t\n",
    "df = 10\n",
    "x = np.linspace(-3,3, 1000)\n",
    "y = t.pdf(x, df)\n",
    "plt.plot(x, y)\n",
    "plt.xlabel('x')\n",
    "plt.ylabel('Probability Density')\n",
    "plt.title(\"Student's t-Distribution\")\n"
   ]
  },
  {
   "cell_type": "code",
   "execution_count": 52,
   "metadata": {},
   "outputs": [
    {
     "name": "stdout",
     "output_type": "stream",
     "text": [
      "Fail to reject Null hypothesis\n"
     ]
    }
   ],
   "source": [
    "# 10\n",
    "import scipy.stats as stats\n",
    "a=np.random.normal(10,2,1000)\n",
    "b=np.random.normal(10,2,1000)\n",
    "\n",
    "t_test,p_val=stats.ttest_ind(a,b,equal_var=True)\n",
    "\n",
    "if p_val<0.05:\n",
    "    print(\"reject Null hypothesis\")\n",
    "else :\n",
    "    print(\"Fail to reject Null hypothesis\")"
   ]
  },
  {
   "cell_type": "markdown",
   "metadata": {},
   "source": [
    "11. Student's t-distribution is a probability distribution that arises in statistics, particularly in situations involving small sample sizes or unknown population standard deviations. It's a critical tool for making inferences about population parameters when working with samples. \n",
    "\n",
    "When to Use the t-Distribution:\n",
    "Small Sample Sizes: When sample sizes are small (typically less than 30), the t-distribution provides a better estimate of uncertainties and variability.\n",
    "\n",
    "Unknown Population Standard Deviation: It’s used when the population standard deviation is unknown and the sample standard deviation is used as an estimate. This is common in real-world data analysis.\n"
   ]
  },
  {
   "cell_type": "markdown",
   "metadata": {},
   "source": [
    "12. The t-statistic is a value calculated in statistics to determine the likelihood that a relationship observed in a sample data set occurred by chance under the null hypothesis. It’s a crucial component in t-tests, a type of hypothesis test.\n",
    "\n",
    "formula:-\n",
    "t=sample mean- population mean/(sample standard deviation/root sample size)"
   ]
  },
  {
   "cell_type": "code",
   "execution_count": 54,
   "metadata": {},
   "outputs": [
    {
     "name": "stdout",
     "output_type": "stream",
     "text": [
      "486.1407070887437 513.8592929112564\n"
     ]
    }
   ],
   "source": [
    "# 13. (random sample of 50 days)i\n",
    "import math\n",
    "mean=500 \n",
    "sdt=50\n",
    "upper_bound=mean+(1.96)*sdt/math.sqrt(50)\n",
    "lower_bound=mean-(1.96)*sdt/math.sqrt(50)\n",
    "\n",
    "print(lower_bound,upper_bound)\n",
    "# population mean with 95% confidence :-"
   ]
  },
  {
   "cell_type": "code",
   "execution_count": 55,
   "metadata": {},
   "outputs": [
    {
     "data": {
      "text/plain": [
       "(485.79015724388137, 514.2098427561186)"
      ]
     },
     "execution_count": 55,
     "metadata": {},
     "output_type": "execute_result"
    }
   ],
   "source": [
    "sample_mean = 500  \n",
    "sample_std_dev = 50  \n",
    "sample_size = 50  \n",
    "\n",
    "t_score = stats.t.ppf(0.975, df=sample_size-1)  \n",
    "\n",
    "# 2. Standard Error\n",
    "standard_error = sample_std_dev / np.sqrt(sample_size)\n",
    "\n",
    "# 3. Margin of Error\n",
    "margin_of_error = t_score * standard_error\n",
    "\n",
    "# 4. Confidence Interval\n",
    "lower_bound = sample_mean - margin_of_error\n",
    "upper_bound = sample_mean + margin_of_error\n",
    "\n",
    "# Results\n",
    "lower_bound, upper_bound"
   ]
  },
  {
   "cell_type": "markdown",
   "metadata": {},
   "source": [
    "\tState the Hypotheses:\n",
    "\t•\tNull Hypothesis (H₀): The new drug does not decrease blood pressure by 10 mmHg. In statistical terms, H₀: μ = 10 mmHg.\n",
    "\t•\tAlternative Hypothesis (H₁): The new drug decreases blood pressure by a different amount than 10 mmHg. In statistical terms, H₁: μ ≠ 10 mmHg.\n",
    "\t•\tNote: Based on your description, this should be a two-tailed test because the alternative hypothesis considers the possibility of the drug decreasing blood pressure by a different amount than 10 mmHg (either less or more).\n",
    "\t2.\tSet the Significance Level (α):\n",
    "\t•\tα = 0.05.\n",
    "\t3.\tCalculate the Test Statistic:\n",
    "\t•\tt = (8 - 10) / (3 / √100) = -6.67 (as you calculated).\n",
    "\t4.\tDetermine the Critical Value:\n",
    "\t•\tSince this is a two-tailed test, find the critical t-values for α/2 = 0.025 on either side of the distribution for 99 degrees of freedom.\n",
    "\t5.\tCompare the Test Statistic with the Critical Value:\n",
    "\t•\tIf the absolute value of the t-statistic is greater than the critical value, reject H₀.\n",
    "\t6.\tInterpret the Results:\n",
    "\t•\tSince the t-statistic is -6.67, and its absolute value is greater than the critical t-value (approximately 1.984 for 99 degrees of freedom at α/2 = 0.025), we reject the null hypothesis.\n",
    "\t•\tInterpretation: There is sufficient evidence to suggest that the new drug does not decrease blood pressure exactly by 10 mmHg. However, this does not necessarily mean it decreases blood pressure by more than 10 mmHg; rather, the decrease is significantly different from 10 mmHg.\n",
    "\n"
   ]
  },
  {
   "cell_type": "markdown",
   "metadata": {},
   "source": [
    "15.\n",
    "H0= Mean is less than 5 pound \n",
    "H1= Mean is 5 pound \n",
    "\n",
    "X'=4.8, µ=5, σ=0.5, n=25 and significance level =0.01\n",
    "Will will do T- test as n<30 so z test will not work here \n",
    "\n",
    "One-tailed with significance level 0.01 and degree of freedom as 24. \n",
    "using  T table we get 2.492 as the value. but we are looking for the lower end so it will be -2.492.\n",
    "\n",
    "Now using T value we get = -5+4.8/(0.5/5)=-2\n",
    "\n",
    "-2>-2.462 so Reject the Null hypothesis."
   ]
  },
  {
   "cell_type": "code",
   "execution_count": null,
   "metadata": {},
   "outputs": [],
   "source": []
  },
  {
   "cell_type": "markdown",
   "metadata": {},
   "source": [
    "16. \n",
    "\t1.\tState the Hypotheses:\n",
    "\t•\tNull Hypothesis (H₀): The population means for the two groups are equal. Mathematically, H₀: μ₁ = μ₂.\n",
    "\t•\tAlternative Hypothesis (H₁): The population means for the two groups are not equal. Mathematically, H₁: μ₁ ≠ μ₂.\n",
    "\t2.\tSet the Significance Level:\n",
    "\t•\tThe significance level (α) is set to 0.01.\n",
    "\t3.\tCalculate the Test Statistic:\n",
    "\t•\tThe t-statistic is calculated using the formula: \n",
    "\t    t = (sample mean 1 - sample mean 2) / √[(sample variance 1 / sample size 1) + (sample variance 2 / sample size 2)]\n",
    "\t•\tFor your data:\n",
    "\t•\tSample mean for Group 1 = 80, standard deviation = 10, sample size = 30.\n",
    "\t•\tSample mean for Group 2 = 75, standard deviation = 8, sample size = 40.\n",
    "\t•\tThe calculated t-statistic is approximately 2.382.\n",
    "\t4.\tDetermine the Critical Value:\n",
    "\t•\tThe critical value for a two-tailed test with degrees of freedom 68 (n₁ + n₂ - 2) at the 0.01 significance level is approximately ±2.615.\n",
    "\t5.\tCompare the t-statistic with the Critical Value:\n",
    "\t•\tThe absolute value of the t-statistic (2.382) is compared with the critical value (2.615).\n",
    "\t•\tSince 2.382 is less than 2.615, we fail to reject the null hypothesis.\n",
    "\t6.\tInterpret the Results:\n",
    "\t•\tBecause we do not reject H₀, we do not have sufficient evidence at the 0.01 significance level to conclude that the population means for the two groups are significantly different.\n"
   ]
  },
  {
   "cell_type": "markdown",
   "metadata": {},
   "source": [
    "17. \n",
    "n=50\n",
    "x'=4\n",
    "std=1.5\n",
    "population mean with 99% confidence interval    \n",
    "\n",
    "2 tailed test (n>30) critercial value is \n",
    " 1) CI = X̄ ± z*(σ/√n) \n",
    " 2) X̄ = sample mean (4)\n",
    " 3) z = z-score corresponding to the confidence level (99%)\n",
    " 4) σ = population standard deviation (1.5)\n",
    " 5) n = sample size (50)\n",
    "\n",
    " CI = 4 ± 2.576*(1.5/√50)\n",
    "\n",
    "(3.335, 4.665)\n",
    "\n"
   ]
  },
  {
   "cell_type": "markdown",
   "metadata": {},
   "source": []
  }
 ],
 "metadata": {
  "kernelspec": {
   "display_name": "Python 3",
   "language": "python",
   "name": "python3"
  },
  "language_info": {
   "codemirror_mode": {
    "name": "ipython",
    "version": 3
   },
   "file_extension": ".py",
   "mimetype": "text/x-python",
   "name": "python",
   "nbconvert_exporter": "python",
   "pygments_lexer": "ipython3",
   "version": "3.9.12"
  }
 },
 "nbformat": 4,
 "nbformat_minor": 2
}

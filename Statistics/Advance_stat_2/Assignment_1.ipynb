{
 "cells": [
  {
   "cell_type": "markdown",
   "metadata": {},
   "source": [
    "1. The primary difference between a t-test and a z-test lies in the conditions under which they are used for hypothesis testing, particularly regarding sample size and population standard deviation:\n",
    "\n",
    "\t1.\tT-Test:\n",
    "\t•\tUsed when the population standard deviation is unknown and the sample size is small (typically less than 30).\n",
    "\t•\tExample Scenario: Comparing the average test scores of a small class (say, 20 students) to a known standard, where the population standard deviation is not known.\n",
    "\t2.\tZ-Test:\n",
    "\t•\tUsed when the population standard deviation is known and the sample size is large enough (typically 30 or more), satisfying the central limit theorem.\n",
    "\t•\tExample Scenario: Testing if the average processing time of transactions in a large bank (with thousands of transactions) deviates from the known standard, where the population standard deviation is known."
   ]
  },
  {
   "cell_type": "markdown",
   "metadata": {},
   "source": [
    "2. \n",
    "    One-Tailed Test:\n",
    "\n",
    "\t•\tUsed when the hypothesis is directional, testing for the possibility of an effect in one direction only (either greater than or less than a certain value).\n",
    "\t•\tExample: Testing if a new drug increases recovery rates (only interested in increase, not decrease).\n",
    "\n",
    "\t2.\tTwo-Tailed Test:\n",
    "\t\n",
    "\t•\tUsed when the hypothesis is non-directional, testing for the possibility of an effect in either direction (both greater than and less than a certain value).\n",
    "\t•\tExample: Testing if a new teaching method differs from the traditional method (interested in both improvement and decline)."
   ]
  },
  {
   "cell_type": "markdown",
   "metadata": {},
   "source": [
    "3. \t1.\tType 1 Error:\n",
    "\t•\tOccurs when the null hypothesis is true, but is incorrectly rejected.\n",
    "\t•\tExample: A drug is actually ineffective (null hypothesis true), but a test incorrectly shows it as effective, leading to its approval (false positive).\n",
    "\t•\tAnalogy: A false alarm, where something is detected when it’s not actually there.\n",
    "    \n",
    "\t2.\tType 2 Error:\n",
    "\t•\tOccurs when the null hypothesis is false, but is incorrectly failed to be rejected.\n",
    "\t•\tExample: A beneficial drug is deemed ineffective (null hypothesis not rejected) due to insufficient evidence in a study, even though it actually works (false negative).\n",
    "\t•\tAnalogy: Missing something that is there, like overlooking an actual effect.\n"
   ]
  },
  {
   "cell_type": "markdown",
   "metadata": {},
   "source": [
    "4. "
   ]
  }
 ],
 "metadata": {
  "language_info": {
   "name": "python"
  }
 },
 "nbformat": 4,
 "nbformat_minor": 2
}

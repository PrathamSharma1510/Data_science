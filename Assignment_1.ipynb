{
 "cells": [
  {
   "cell_type": "code",
   "execution_count": 1,
   "id": "c067323e",
   "metadata": {},
   "outputs": [],
   "source": [
    "# 1. Create one variable containing following type of data:\n",
    "# (i) string\n",
    "# (ii) list\n",
    "# (iii) float\n",
    "# (iv) tuple"
   ]
  },
  {
   "cell_type": "code",
   "execution_count": 2,
   "id": "f46229d1",
   "metadata": {},
   "outputs": [
    {
     "name": "stdout",
     "output_type": "stream",
     "text": [
      "Pratham [1, 2, 3, 4, 5] 3.23 (2, 3, 'sharma', 4, 4.33)\n"
     ]
    }
   ],
   "source": [
    "str=\"Pratham\"\n",
    "my_list=[1,2,3,4,5]\n",
    "flo=3.23\n",
    "tup=(2,3,\"sharma\",4,4.33)\n",
    "\n",
    "print(str,my_list,flo,tup)"
   ]
  },
  {
   "cell_type": "code",
   "execution_count": 3,
   "id": "e21dde9e",
   "metadata": {},
   "outputs": [],
   "source": [
    "# Q2. Given are some following variables containing data:\n",
    "# (i) var1 = ‘ ‘\n",
    "# (ii) var2 = ‘[ DS , ML , Python]’\n",
    "# (iii) var3 = [ ‘DS’ , ’ML’ , ‘Python’ ]\n",
    "# (iv) var4 = 1.\n",
    "# What will be the data type of the above given variable."
   ]
  },
  {
   "cell_type": "code",
   "execution_count": 4,
   "id": "12b57a91",
   "metadata": {},
   "outputs": [],
   "source": [
    "# 1) string \n",
    "# 2) String \n",
    "# 3) List \n",
    "# 4) float "
   ]
  },
  {
   "cell_type": "code",
   "execution_count": 5,
   "id": "a73e6149",
   "metadata": {},
   "outputs": [],
   "source": [
    "# Q3. Explain the use of the following operators using an example:\n",
    "# (i) /\n",
    "# (ii) %\n",
    "# (iii) //\n",
    "# (iv) **"
   ]
  },
  {
   "cell_type": "code",
   "execution_count": 6,
   "id": "e87cf1c2",
   "metadata": {},
   "outputs": [
    {
     "name": "stdout",
     "output_type": "stream",
     "text": [
      "5.0\n",
      "4.0\n",
      "4\n",
      "16\n"
     ]
    }
   ],
   "source": [
    "# 1) / operator is used for division \n",
    "print(10/2)\n",
    "# 2) % operator is used to find the remainder \n",
    "print(12/3)\n",
    "# 3) // is used for the floor division\n",
    "print(13//3)\n",
    "# 4) ** is used for to find power \n",
    "print(2**4)"
   ]
  },
  {
   "cell_type": "code",
   "execution_count": 7,
   "id": "a910e2b9",
   "metadata": {},
   "outputs": [],
   "source": [
    "# Q4. Create a list of length 10 of your choice containing multiple types of data. Using for loop print the\n",
    "# element and its data type."
   ]
  },
  {
   "cell_type": "code",
   "execution_count": 8,
   "id": "295df3fa",
   "metadata": {},
   "outputs": [
    {
     "name": "stdout",
     "output_type": "stream",
     "text": [
      "1 type ->  <class 'int'>\n",
      "2 type ->  <class 'int'>\n",
      "hello type ->  <class 'str'>\n",
      "3.22 type ->  <class 'float'>\n",
      "(2+4j) type ->  <class 'complex'>\n",
      "6 type ->  <class 'int'>\n",
      "7 type ->  <class 'int'>\n",
      "pro type ->  <class 'str'>\n",
      "okay type ->  <class 'str'>\n",
      "10 type ->  <class 'int'>\n"
     ]
    }
   ],
   "source": [
    "My_list=[1,2,\"hello\",3.22,2+4j,6,7,\"pro\",\"okay\",10]\n",
    "for i in My_list:\n",
    "    print(i,\"type -> \",type(i))\n",
    "    "
   ]
  },
  {
   "cell_type": "code",
   "execution_count": 9,
   "id": "e2541cd5",
   "metadata": {},
   "outputs": [],
   "source": [
    "# Q5.Using a while loop, verify if the number A is purely divisible by number B and if so then how many\n",
    "# times it can be divisible.\n",
    "# Q6. Create a list containing 25 int type data. Using for loop and if-else condition print if the element is\n",
    "# divisible by 3 or not.\n",
    "# Q7. What do you  understand about mutable and immutable data types? Give examples for both showing\n",
    "# this property.\n",
    "\n",
    "# Note: Create your assignment in Jupyter notebook and upload it to GitHub & share that github repository\n",
    "# link through your dashboard. Make sure the repository is public."
   ]
  },
  {
   "cell_type": "code",
   "execution_count": null,
   "id": "5bdb2f8e",
   "metadata": {},
   "outputs": [],
   "source": [
    "a = int(input(\"Enter number a-> \"))\n",
    "b = int(input(\"Enter number b-> \"))\n",
    "count=0\n",
    "while(a>0):\n",
    "    a-b\n",
    "    count=count+1\n",
    "if(a==0):\n",
    "    print(\"purely divisible\")\n",
    "    print(\"count \",count)\n",
    "else:\n",
    "    print(\"Not purely divisible\")\n",
    "    "
   ]
  },
  {
   "cell_type": "code",
   "execution_count": null,
   "id": "aead9ca8",
   "metadata": {},
   "outputs": [],
   "source": []
  }
 ],
 "metadata": {
  "kernelspec": {
   "display_name": "Python 3 (ipykernel)",
   "language": "python",
   "name": "python3"
  },
  "language_info": {
   "codemirror_mode": {
    "name": "ipython",
    "version": 3
   },
   "file_extension": ".py",
   "mimetype": "text/x-python",
   "name": "python",
   "nbconvert_exporter": "python",
   "pygments_lexer": "ipython3",
   "version": "3.9.12"
  }
 },
 "nbformat": 4,
 "nbformat_minor": 5
}
